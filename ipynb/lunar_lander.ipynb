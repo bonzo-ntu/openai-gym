{
 "cells": [
  {
   "cell_type": "code",
   "execution_count": 3,
   "metadata": {},
   "outputs": [],
   "source": [
    "import gymnasium as gym\n",
    "from gym.wrappers import RecordVideo\n",
    "from IPython import display\n",
    "import matplotlib\n",
    "import matplotlib.pyplot as plt\n",
    "%matplotlib inline"
   ]
  },
  {
   "cell_type": "code",
   "execution_count": 4,
   "metadata": {},
   "outputs": [],
   "source": [
    "import wandb\n",
    "import random\n",
    "import numpy as np\n",
    "import torch\n",
    "import torch.nn as nn\n",
    "import torch.optim as optim\n",
    "import torch.nn.functional as F\n",
    "from torch.distributions import Categorical\n",
    "from tqdm.notebook import tqdm\n",
    "from torch.optim.lr_scheduler import StepLR, CosineAnnealingLR\n",
    "# https://speech.ee.ntu.edu.tw/~hylee/ml/ml2021-course-data/hw/HW12/HW12_EN.pdf\n",
    "# https://github.com/john-hu/rl\n",
    "# https://medium.com/no-sliver-bullet/%E5%BC%B7%E5%8C%96%E5%AD%B8%E7%BF%92-reinforcement-learning-lunar-lander-v2-1291d48b71c3\n"
   ]
  },
  {
   "cell_type": "code",
   "execution_count": 5,
   "metadata": {},
   "outputs": [],
   "source": [
    "def fix(env, seed):\n",
    "    # -deprecated- env.seed(seed)\n",
    "    env.reset(seed=seed)\n",
    "    env.action_space.seed(seed)\n",
    "    torch.manual_seed(seed)\n",
    "    torch.cuda.manual_seed(seed)\n",
    "    torch.cuda.manual_seed_all(seed)\n",
    "    np.random.seed(seed)\n",
    "    random.seed = seed\n",
    "    # -deprecated- torch.set_deterministic(True)\n",
    "    torch.use_deterministic_algorithms = True\n",
    "    torch.are_deterministic_algorithms_enabled = True\n",
    "    torch.backends.cudnn.benchmark = False\n",
    "    torch.backends.cudnn.deterministic = True\n",
    "\n",
    "\n",
    "seed = 543\n",
    "env = gym.make('LunarLander-v2', \n",
    "               render_mode='rgb_array')\n",
    "fix(env, seed=seed)"
   ]
  },
  {
   "cell_type": "code",
   "execution_count": 7,
   "metadata": {},
   "outputs": [
    {
     "name": "stdout",
     "output_type": "stream",
     "text": [
      "\r-2.1055, total_reward:-24.7789, terminated:False\n"
     ]
    },
    {
     "data": {
      "image/png": "[encoded data removed]",
      "text/plain": [
       "<Figure size 640x480 with 1 Axes>"
      ]
     },
     "metadata": {},
     "output_type": "display_data"
    }
   ],
   "source": [
    "env = gym.make('LunarLander-v2', render_mode='rgb_array')\n",
    "env.reset()\n",
    "img = plt.imshow(env.render()) # only call this once\n",
    "total_reward = 0\n",
    "for _ in range(100):\n",
    "    img.set_data(env.render()) # just update the data\n",
    "    display.display(plt.gcf())\n",
    "    display.clear_output(wait=True)\n",
    "    action = env.action_space.sample()\n",
    "    observation, reward, terminated, truncated, info = env.step(action)\n",
    "    total_reward += reward\n",
    "    print(f'\\r{reward:.4f}, total_reward:{total_reward:.4f}, terminated:{terminated}')"
   ]
  },
  {
   "cell_type": "code",
   "execution_count": 8,
   "metadata": {},
   "outputs": [],
   "source": [
    "# env.observation_space\n",
    "# env.action_space\n",
    "# initial_state, initial_info = env.reset(seed=seed)\n",
    "# random_action = env.action_space.sample()\n",
    "# observation, reward, terminated, truncated, info = env.step(random_action)"
   ]
  },
  {
   "cell_type": "code",
   "execution_count": 9,
   "metadata": {},
   "outputs": [],
   "source": [
    "# import os\n",
    "# import gymnasium as gym\n",
    "# env = gym.make(\"LunarLander-v2\", render_mode=\"rgb_array\")\n",
    "# trigger = lambda t: t % 10 == 0\n",
    "# env = RecordVideo(env, video_folder=\"./video/video1\", episode_trigger=trigger, disable_logger=True)\n",
    "# for i in range(50):\n",
    "#     termination, truncation = False, False\n",
    "#     _ = env.reset(seed=123)\n",
    "#     while not (termination or truncation):\n",
    "#         obs, rew, termination, truncation, info = env.step(env.action_space.sample())\n",
    "\n",
    "# env.close()\n",
    "# len(os.listdir(\"./video/video1\"))"
   ]
  },
  {
   "cell_type": "markdown",
   "metadata": {},
   "source": [
    "# Random Agent"
   ]
  },
  {
   "cell_type": "code",
   "execution_count": 6,
   "metadata": {},
   "outputs": [],
   "source": [
    "def demo_run(env, agent, seed=seed, num_episode=1, record_video=False, video_folder = './video/tmp', greedy=False):\n",
    "    agent.network.eval()\n",
    "    \n",
    "    if not record_video:\n",
    "        img = plt.imshow(env.render())\n",
    "    \n",
    "    for episode in range(num_episode):\n",
    "        if not record_video:\n",
    "            env_ = env\n",
    "        else:\n",
    "            trigger = lambda t: t%10 == 0\n",
    "            action_mode = 'greedy' if greedy else 'sample'\n",
    "            env_ = RecordVideo(env, video_folder=video_folder+f'-{action_mode}-{episode}', episode_trigger=trigger)\n",
    "            \n",
    "        state, info = env_.reset(seed=seed)\n",
    "        terminated, truncated = False, False\n",
    "        while not (terminated or truncated):\n",
    "            action, log_prob = agent.sample(state, greedy)\n",
    "            next_state, reward, terminated, truncated, info = env_.step(action)\n",
    "            state = next_state\n",
    "\n",
    "            if not record_video:\n",
    "                img.set_data(env.render())\n",
    "                display.display(plt.gcf())\n",
    "                display.clear_output(wait=True)"
   ]
  },
  {
   "cell_type": "code",
   "execution_count": 12,
   "metadata": {},
   "outputs": [],
   "source": [
    "# from gym.wrappers import RecordVideo\n",
    "# env = gym.make('LunarLander-v2', \n",
    "#                render_mode='rgb_array')\n",
    "# env.reset(seed=seed)\n",
    "# #img = plt.imshow(env.render())\n",
    "# trigger = lambda t: t % 100 == 0\n",
    "# env = RecordVideo(env, video_folder=\"./video/video3\", episode_trigger=trigger)\n",
    "\n",
    "# terminated, truncated = False, False\n",
    "# while not (terminated or truncated):\n",
    "#     action = env.action_space.sample()\n",
    "#     # observation, reward, done, _ \n",
    "#     observation, reward, terminated, truncated, info = env.step(action)\n",
    "\n",
    "#     #img.set_data(env.render())\n",
    "#     #display.display(plt.gcf())\n",
    "#     #display.clear_output(wait=True)\n",
    "# env.close()"
   ]
  },
  {
   "cell_type": "markdown",
   "metadata": {},
   "source": [
    "# Policy Gradient"
   ]
  },
  {
   "cell_type": "code",
   "execution_count": 7,
   "metadata": {},
   "outputs": [],
   "source": [
    "class PolicyGradientNetwork(nn.Module):\n",
    "    def __init__(self):\n",
    "        super().__init__()\n",
    "        self.fc1 = nn.Linear(8, 16)\n",
    "        self.fc2 = nn.Linear(16,16)\n",
    "        self.fc3 = nn.Linear(16, 4)\n",
    "\n",
    "    # def forward(self, state):\n",
    "    #     hid = torch.tanh(self.fc1(state))\n",
    "    #     hid = torch.tanh(self.fc2(hid))\n",
    "    #     return F.softmax(self.fc3(hid), dim=-1)\n",
    "\n",
    "    def forward(self, state):\n",
    "        hid = torch.relu(self.fc1(state))\n",
    "        hid = torch.relu(self.fc2(hid))\n",
    "        return F.softmax(self.fc3(hid), dim=-1)"
   ]
  },
  {
   "cell_type": "markdown",
   "metadata": {},
   "source": [
    "Then, we need to build a simple agent. The agent will acts according to the output of the policy network above. There are a few things can be done by agent:\n",
    "\n",
    "* `learn()`：update the policy network from log probabilities and rewards.\n",
    "* `sample()`：After receiving observation from the environment, utilize policy network to tell which action to take. The return values of this function includes action and log probabilities."
   ]
  },
  {
   "cell_type": "code",
   "execution_count": 8,
   "metadata": {},
   "outputs": [],
   "source": [
    "class PolicyGradientAgent():\n",
    "    def __init__(self, network, lr=1e-3, epochs=500):\n",
    "        self.lr = lr\n",
    "        self.epochs = epochs\n",
    "        self.network = network\n",
    "        self.optimizer = optim.SGD(self.network.parameters(), lr=1e-3)\n",
    "        self.lr_scheduler = CosineAnnealingLR(self.optimizer, self.epochs, eta_min=1e-6)\n",
    "\n",
    "    def forward(self, state):\n",
    "        return self.network(state)\n",
    "\n",
    "    def learn(self, log_probs, rewards):\n",
    "        loss = (-log_probs * rewards).sum() # You don't need to revise this to pass simple baseline (but you can)\n",
    "        self.optimizer.zero_grad()\n",
    "        loss.backward()\n",
    "        self.optimizer.step()\n",
    "        self.lr_scheduler.step()\n",
    "        \n",
    "    def sample(self, state, greedy=False):\n",
    "        action_prob = self.network(torch.FloatTensor(np.array(state)))\n",
    "        action_dist = Categorical(action_prob)\n",
    "        if not greedy:\n",
    "            action = action_dist.sample()\n",
    "        else:\n",
    "            action = action_prob.argmax()\n",
    "        log_prob = action_dist.log_prob(action)\n",
    "        return action.item(), log_prob\n",
    " "
   ]
  },
  {
   "cell_type": "code",
   "execution_count": null,
   "metadata": {},
   "outputs": [],
   "source": [
    "# # build a network and agent to start training\n",
    "# network = PolicyGradientNetwork()\n",
    "# agent = PolicyGradientAgent(network)"
   ]
  },
  {
   "cell_type": "markdown",
   "metadata": {},
   "source": [
    "# Training Agent"
   ]
  },
  {
   "cell_type": "code",
   "execution_count": null,
   "metadata": {},
   "outputs": [],
   "source": [
    "# import wandb\n",
    "# import random\n",
    "\n",
    "# # start a new wandb run to track this script\n",
    "# wandb.init(\n",
    "#     # set the wandb project where this run will be logged\n",
    "#     project=\"lunalander\",\n",
    "    \n",
    "#     # track hyperparameters and run metadata\n",
    "#     config={\n",
    "#     \"Agent\": \"PolicyGradientAgent\",\n",
    "#     \"reward\": \"normalized(step_reward)*step_log_prob\",\n",
    "#     \"learning_rate\": 1e-3,\n",
    "#     \"epochs\": 500,\n",
    "#     }\n",
    "# )"
   ]
  },
  {
   "cell_type": "code",
   "execution_count": 27,
   "metadata": {},
   "outputs": [
    {
     "data": {
      "image/png": "[encoded data removed]",
      "text/plain": [
       "<Figure size 640x480 with 1 Axes>"
      ]
     },
     "metadata": {},
     "output_type": "display_data"
    }
   ],
   "source": [
    "network = PolicyGradientNetwork()\n",
    "agent = PolicyGradientAgent(network)\n",
    "\n",
    "\n",
    "config = {\"reward\":\"MC\"}\n",
    "\n",
    "agent.network.train()  # Switch network into training mode \n",
    "EPISODE_PER_BATCH = 5  # update the  agent every 5 episode\n",
    "NUM_BATCH = 10        # totally update the agent for 400 time\n",
    "gamma = 0.9\n",
    "\n",
    "avg_total_rewards, avg_final_rewards = [], []\n",
    "\n",
    "\n",
    "NUM_BATCH=1\n",
    "EPISODE_PER_BATCH = 1\n",
    "prg_bar = tqdm(range(NUM_BATCH))\n",
    "\n",
    "    \n",
    "for batch in range(NUM_BATCH):#prg_bar:\n",
    "    log_probs, rewards = [], []\n",
    "    total_rewards, final_rewards = [], []\n",
    "    total_steps = []\n",
    "    \n",
    "    # collect trajectory\n",
    "    for episode in range(EPISODE_PER_BATCH):\n",
    "        \n",
    "        state, info = env.reset()\n",
    "        img = plt.imshow(env.render())\n",
    "        total_reward, total_step = 0, 0\n",
    "        terminated, truncated = False, False\n",
    "        while not(terminated or truncated):\n",
    "        # while not (terminated or truncated):\n",
    "            print(f'\\r{reward:.4f}, total_reward:{total_reward:.4f}, terminated:{terminated}')\n",
    "            action, log_prob = agent.sample(state) # at, log(at|st)\n",
    "            next_state, reward, terminated, truncated, info = env.step(action)\n",
    "\n",
    "            # render\n",
    "            img.set_data(env.render()) # just update the data\n",
    "            display.display(plt.gcf())\n",
    "            display.clear_output(wait=True)     \n",
    "            # render       \n",
    "\n",
    "            log_probs.append(log_prob) # [log(a1|s1), log(a2|s2), ...., log(at|st)]\n",
    "            state = next_state\n",
    "            total_reward += reward\n",
    "            match config[\"reward\"]:\n",
    "                case \"normalized_step_reward\":\n",
    "                    rewards.append(reward) # change here\n",
    "                case \"MC\":\n",
    "                    rewards.append(reward*(gamma**total_step))\n",
    "    \n",
    "            total_step += 1\n",
    "\n",
    "            # ! IMPORTANT !\n",
    "            # Current reward implementation: immediate reward,  given action_list : a1, a2, a3 ......\n",
    "            #                                                         rewards :     r1, r2 ,r3 ......\n",
    "            # medium：change \"rewards\" to accumulative decaying reward, given action_list : a1,                           a2,                           a3, ......\n",
    "            #                                                           rewards :           r1+0.99*r2+0.99^2*r3+......, r2+0.99*r3+0.99^2*r4+...... ,  r3+0.99*r4+0.99^2*r5+ ......\n",
    "            # boss : implement Actor-Critic\n",
    "\n",
    "            # if terminated or truncated:\n",
    "            #    final_rewards.append(reward)\n",
    "            #    total_rewards.append(total_reward)\n",
    "            #    break\n",
    "\n",
    "        else:\n",
    "            final_rewards.append(reward)\n",
    "            total_rewards.append(total_reward)\n",
    "            total_steps.append(total_step)\n",
    "            state, info = env.reset()\n",
    "            #img.set_data(env.render()) # just update the data\n",
    "            #display.display(plt.gcf())\n",
    "            #display.clear_output(wait=True)     \n",
    "        \n",
    "    \n",
    "    # update agent\n",
    "    mean_rewards = np.mean(rewards)\n",
    "    std_rewards = np.std(rewards)\n",
    "\n",
    "    match config[\"reward\"]:\n",
    "        case \"normalized_step_reward\":\n",
    "            rewards = (rewards - np.mean(rewards)) / (np.std(rewards) + 1e-9)  # normalize the reward \n",
    "        case \"MC\":\n",
    "            rewards_ = []\n",
    "            start = [sum(total_steps[:i]) for i in range(len(total_steps))]\n",
    "            end =  [sum(total_steps[:i]) for i in range(1, len(total_steps)+1)]\n",
    "\n",
    "            for s, e in zip(start, end):\n",
    "                rewards_ = rewards_ + [ sum(rewards[s:e][i:])/(gamma**i) for i in range(len(rewards[s:e])) ]\n",
    "            \n",
    "            #rewards = rewards_\n",
    "            #rewards = (rewards - np.mean(rewards)) / (np.std(rewards) + 1e-9)\n",
    "    \n",
    "\n",
    "    #print(f\"rewards looks like \", np.shape(rewards))  \n",
    "    #print(f\"log_probs looks like \", np.shape(log_probs))     \n",
    "    # record training process\n",
    "    avg_total_reward = sum(total_rewards) / len(total_rewards)\n",
    "    avg_final_reward = sum(final_rewards) / len(final_rewards)\n",
    "    avg_total_rewards.append(avg_total_reward)\n",
    "    avg_final_rewards.append(avg_final_reward)\n",
    "    prg_bar.set_description(f\"Total: {avg_total_reward: 4.1f}, Final: {avg_final_reward: 4.1f}\")\n",
    "\n",
    "    # update agent\n",
    "    # rewards = np.concatenate(rewards, axis=0)\n",
    "    mean_rewards = np.mean(rewards)\n",
    "    std_rewards = np.std(rewards)\n",
    "    # rewards = (np.array(rewards) - np.mean(rewards)) / (np.std(rewards) + 1e-9)  # normalize the reward \n",
    "    #rewards = np.array(np.sum(rewards))\n",
    "    #rewards = np.array([sum(rewards[i:])/(gamma**i) for i in range(len(rewards))])\n",
    "    agent.learn(torch.stack(log_probs), torch.from_numpy(np.array(rewards_)))\n",
    "    # print(\"logs prob looks like \", torch.stack(log_probs).size())\n",
    "    # print(\"torch.from_numpy(rewards) looks like \", torch.from_numpy( np.array(rewards_) ).size())\n",
    "    \n",
    "    # wandb.log({\"mean rewards\":mean_rewards, \n",
    "    #            \"std reward\":std_rewards, \n",
    "    #            \"avg_total_reward\": avg_total_reward, \n",
    "    #            \"avg_final_reward\": avg_final_reward, \n",
    "    #            \"avg_episode_steps\":len(rewards)/EPISODE_PER_BATCH}\n",
    "    # )"
   ]
  },
  {
   "cell_type": "code",
   "execution_count": 21,
   "metadata": {},
   "outputs": [],
   "source": [
    "EPISODE_PER_BATCH = 5  # update the  agent every 5 episode\n",
    "NUM_BATCH = 500        # totally update the agent for 400 time\n",
    "\n",
    "def agent_run(\n",
    "    env, \n",
    "    agent, \n",
    "    config, \n",
    "    episode_per_batch=EPISODE_PER_BATCH, \n",
    "    num_batch=NUM_BATCH, \n",
    "    gamma=0.99,\n",
    "    step_punish = -0.15,\n",
    "    wandb_log = True,\n",
    "    verbose = False\n",
    "):\n",
    "\n",
    "    if wandb_log:\n",
    "        wandb.init(\n",
    "            # set the wandb project where this run will be logged\n",
    "            project = config['project'], \n",
    "            # track hyperparameters and run metadata\n",
    "            config = config\n",
    "        )\n",
    "\n",
    "    match config['phase']:\n",
    "        case 'train':\n",
    "            agent.network.train()  # Switch network into training mode \n",
    "        case 'eval':\n",
    "            agent.network.eval()  # Switch network into eval mode \n",
    "    \n",
    "    num_batch, episode_per_batch = config['num_batch'], config['episode_per_batch']\n",
    "    avg_total_rewards, avg_final_rewards = [], []\n",
    "\n",
    "    prg_bar = tqdm(range(num_batch))\n",
    "    for batch in prg_bar:\n",
    "\n",
    "        log_probs, rewards = [], []\n",
    "        total_rewards, final_rewards = [], []\n",
    "        total_steps = []\n",
    "        # collect trajectory\n",
    "        for episode in range(episode_per_batch):\n",
    "            \n",
    "            state, info = env.reset()\n",
    "            total_reward, total_step = 0, 0\n",
    "            terminated, truncated = False, False\n",
    "            \n",
    "            while not(terminated or truncated):\n",
    "            # while not (terminated or truncated):\n",
    "                action, log_prob = agent.sample(state) # at, log(at|st)\n",
    "                next_state, reward, terminated, truncated, info = env.step(action)\n",
    "                reward += step_punish\n",
    "                # if reward == -100:\n",
    "                #     reward = -10\n",
    "                \n",
    "\n",
    "                log_probs.append(log_prob) # [log(a1|s1), log(a2|s2), ...., log(at|st)]\n",
    "                state = next_state\n",
    "                total_reward += reward\n",
    "                match config[\"reward\"]:\n",
    "                    case \"normalized_step_reward\":\n",
    "                        rewards.append(reward) # change here\n",
    "                    case \"MC\":\n",
    "                        rewards.append(reward*(gamma**total_step))\n",
    "                \n",
    "                total_step += 1\n",
    "                # ! IMPORTANT !\n",
    "                # Current reward implementation: immediate reward,  given action_list : a1, a2, a3 ......\n",
    "                #                                                         rewards :     r1, r2 ,r3 ......\n",
    "                # medium：change \"rewards\" to accumulative decaying reward, given action_list : a1,                           a2,                           a3, ......\n",
    "                #                                                           rewards :           r1+0.99*r2+0.99^2*r3+......, r2+0.99*r3+0.99^2*r4+...... ,  r3+0.99*r4+0.99^2*r5+ ......\n",
    "                # boss : implement Actor-Critic\n",
    "\n",
    "                # if terminated or truncated:\n",
    "                #    final_rewards.append(reward)\n",
    "                #    total_rewards.append(total_reward)\n",
    "                #    break\n",
    "\n",
    "            else:\n",
    "                final_rewards.append(reward)\n",
    "                total_rewards.append(total_reward)\n",
    "                total_steps.append(total_step)\n",
    "                \n",
    "            \n",
    "\n",
    "        # record training process\n",
    "        avg_total_reward = sum(total_rewards) / len(total_rewards)\n",
    "        avg_final_reward = sum(final_rewards) / len(final_rewards)\n",
    "        avg_total_rewards.append(avg_total_reward)\n",
    "        avg_final_rewards.append(avg_final_reward)\n",
    "        avg_episode_steps = sum(total_steps)/len(total_steps)\n",
    "        prg_bar.set_description(f\"\\r Total reward: {avg_total_reward: 4.1f}, Final reward: {avg_final_reward: 4.1f}\")\n",
    "\n",
    "        # update agent\n",
    "        mean_rewards = np.mean(rewards)\n",
    "        std_rewards = np.std(rewards)\n",
    "\n",
    "        match config[\"reward\"]:\n",
    "            case \"normalized_step_reward\":\n",
    "                rewards = (rewards - np.mean(rewards)) / (np.std(rewards) + 1e-9)  # normalize the reward \n",
    "            case \"MC\":\n",
    "                rewards_ = []\n",
    "                start = [sum(total_steps[:i]) for i in range(len(total_steps))]\n",
    "                end =  [sum(total_steps[:i]) for i in range(1, len(total_steps)+1)]\n",
    "\n",
    "                for s, e in zip(start, end):\n",
    "                    rewards_ = rewards_ + [ sum(rewards[s:e][i:])/(gamma**i) for i in range(len(rewards[s:e])) ]\n",
    "                \n",
    "                rewards = rewards_\n",
    "                rewards = (rewards - np.mean(rewards)) / (np.std(rewards) + 1e-9)\n",
    "        \n",
    "                #rewards = np.array([sum(rewards[i:])/(gamma**i) for i in range(len(rewards))])\n",
    "                #rewards = np.array(np.sum(rewards))\n",
    "\n",
    "        agent.learn(torch.stack(log_probs), torch.from_numpy(rewards))\n",
    "        if verbose:\n",
    "            print(\"logs prob looks like \", torch.stack(log_probs).size())\n",
    "            print(\"torch.from_numpy(rewards) looks like \", torch.from_numpy(rewards).size())\n",
    "\n",
    "        if wandb_log:\n",
    "            wandb.log({\"mean rewards\":mean_rewards, \n",
    "                    \"std reward\":std_rewards, \n",
    "                    \"avg_total_reward\": avg_total_reward, \n",
    "                    \"avg_final_reward\": avg_final_reward, \n",
    "                    \"avg_episode_steps\":avg_episode_steps}\n",
    "            )\n",
    "\n",
    "    match config['phase']:\n",
    "        case 'train':\n",
    "            torch.save(agent.network.state_dict(), config['output_dir'])\n"
   ]
  },
  {
   "cell_type": "code",
   "execution_count": 48,
   "metadata": {},
   "outputs": [
    {
     "data": {
      "text/html": [
       "Finishing last run (ID:fsi81gqz) before initializing another..."
      ],
      "text/plain": [
       "<IPython.core.display.HTML object>"
      ]
     },
     "metadata": {},
     "output_type": "display_data"
    },
    {
     "data": {
      "application/vnd.jupyter.widget-view+json": {
       "model_id": "90f25e1c025f42ca90af048894c59c10",
       "version_major": 2,
       "version_minor": 0
      },
      "text/plain": [
       "VBox(children=(Label(value='0.004 MB of 0.004 MB uploaded\\r'), FloatProgress(value=1.0, max=1.0)))"
      ]
     },
     "metadata": {},
     "output_type": "display_data"
    },
    {
     "data": {
      "text/html": [
       "<style>\n",
       "    table.wandb td:nth-child(1) { padding: 0 10px; text-align: left ; width: auto;} td:nth-child(2) {text-align: left ; width: 100%}\n",
       "    .wandb-row { display: flex; flex-direction: row; flex-wrap: wrap; justify-content: flex-start; width: 100% }\n",
       "    .wandb-col { display: flex; flex-direction: column; flex-basis: 100%; flex: 1; padding: 10px; }\n",
       "    </style>\n",
       "<div class=\"wandb-row\"><div class=\"wandb-col\"><h3>Run history:</h3><br/><table class=\"wandb\"><tr><td>avg_episode_steps</td><td>▁</td></tr><tr><td>avg_final_reward</td><td>▁</td></tr><tr><td>avg_total_reward</td><td>▁</td></tr><tr><td>mean rewards</td><td>▁</td></tr><tr><td>std reward</td><td>▁</td></tr></table><br/></div><div class=\"wandb-col\"><h3>Run summary:</h3><br/><table class=\"wandb\"><tr><td>avg_episode_steps</td><td>82.4</td></tr><tr><td>avg_final_reward</td><td>-100.0</td></tr><tr><td>avg_total_reward</td><td>-225.74438</td></tr><tr><td>mean rewards</td><td>-1.50772</td></tr><tr><td>std reward</td><td>5.7599</td></tr></table><br/></div></div>"
      ],
      "text/plain": [
       "<IPython.core.display.HTML object>"
      ]
     },
     "metadata": {},
     "output_type": "display_data"
    },
    {
     "data": {
      "text/html": [
       " View run <strong style=\"color:#cdcd00\">serene-valley-46</strong> at: <a href='http://140.112.31.147:8080/irlab/lunalander/runs/fsi81gqz' target=\"_blank\">http://140.112.31.147:8080/irlab/lunalander/runs/fsi81gqz</a><br/>Synced 4 W&B file(s), 0 media file(s), 0 artifact file(s) and 0 other file(s)"
      ],
      "text/plain": [
       "<IPython.core.display.HTML object>"
      ]
     },
     "metadata": {},
     "output_type": "display_data"
    },
    {
     "data": {
      "text/html": [
       "Find logs at: <code>./wandb/run-20240310_093501-fsi81gqz/logs</code>"
      ],
      "text/plain": [
       "<IPython.core.display.HTML object>"
      ]
     },
     "metadata": {},
     "output_type": "display_data"
    },
    {
     "data": {
      "text/html": [
       "Upgrade to the 0.50.2 version of W&B Server to get the latest features. Learn more: <a href='https://wandb.me/server-upgrade' target=\"_blank\">https://wandb.me/server-upgrade</a>"
      ],
      "text/plain": [
       "<IPython.core.display.HTML object>"
      ]
     },
     "metadata": {},
     "output_type": "display_data"
    },
    {
     "data": {
      "text/html": [
       "Successfully finished last run (ID:fsi81gqz). Initializing new run:<br/>"
      ],
      "text/plain": [
       "<IPython.core.display.HTML object>"
      ]
     },
     "metadata": {},
     "output_type": "display_data"
    },
    {
     "data": {
      "text/html": [
       "wandb version 0.16.4 is available!  To upgrade, please run:\n",
       " $ pip install wandb --upgrade"
      ],
      "text/plain": [
       "<IPython.core.display.HTML object>"
      ]
     },
     "metadata": {},
     "output_type": "display_data"
    },
    {
     "data": {
      "text/html": [
       "Tracking run with wandb version 0.16.3"
      ],
      "text/plain": [
       "<IPython.core.display.HTML object>"
      ]
     },
     "metadata": {},
     "output_type": "display_data"
    },
    {
     "data": {
      "text/html": [
       "Run data is saved locally in <code>/home/jupyter/github/openai-gym/wandb/run-20240310_100623-3wsfjbss</code>"
      ],
      "text/plain": [
       "<IPython.core.display.HTML object>"
      ]
     },
     "metadata": {},
     "output_type": "display_data"
    },
    {
     "data": {
      "text/html": [
       "Syncing run <strong><a href='http://140.112.31.147:8080/irlab/lunalander/runs/3wsfjbss' target=\"_blank\">breezy-paper-47</a></strong> to <a href='http://140.112.31.147:8080/irlab/lunalander' target=\"_blank\">Weights & Biases</a> (<a href='https://wandb.me/run' target=\"_blank\">docs</a>)<br/>"
      ],
      "text/plain": [
       "<IPython.core.display.HTML object>"
      ]
     },
     "metadata": {},
     "output_type": "display_data"
    },
    {
     "data": {
      "text/html": [
       " View project at <a href='http://140.112.31.147:8080/irlab/lunalander' target=\"_blank\">http://140.112.31.147:8080/irlab/lunalander</a>"
      ],
      "text/plain": [
       "<IPython.core.display.HTML object>"
      ]
     },
     "metadata": {},
     "output_type": "display_data"
    },
    {
     "data": {
      "text/html": [
       " View run at <a href='http://140.112.31.147:8080/irlab/lunalander/runs/3wsfjbss' target=\"_blank\">http://140.112.31.147:8080/irlab/lunalander/runs/3wsfjbss</a>"
      ],
      "text/plain": [
       "<IPython.core.display.HTML object>"
      ]
     },
     "metadata": {},
     "output_type": "display_data"
    },
    {
     "data": {
      "application/vnd.jupyter.widget-view+json": {
       "model_id": "394362752bf743d9b125355966c85f2f",
       "version_major": 2,
       "version_minor": 0
      },
      "text/plain": [
       "  0%|          | 0/1 [00:00<?, ?it/s]"
      ]
     },
     "metadata": {},
     "output_type": "display_data"
    }
   ],
   "source": [
    "EPISODE_PER_BATCH = 5  # update the  agent every 5 episode\n",
    "NUM_BATCH = 1        # totally update the agent for 400 time\n",
    "\n",
    "# def agent_run(\n",
    "#     env, \n",
    "#     agent, \n",
    "#     config, \n",
    "#     episode_per_batch=EPISODE_PER_BATCH, \n",
    "#     num_batch=NUM_BATCH, \n",
    "#     gamma=0.99,\n",
    "#     wandb_log = True,\n",
    "#     verbose = False\n",
    "# ):\n",
    "env = gym.make('LunarLander-v2', render_mode='rgb_array')\n",
    "env.reset(seed=seed)\n",
    "\n",
    "network = PolicyGradientNetwork()\n",
    "agent = PolicyGradientAgent(network)\n",
    "\n",
    "config={\n",
    "    \"agent\": \"PolicyGradientAgent\",\n",
    "    \"phase\": \"train\",\n",
    "    \"project\": \"lunalander\",\n",
    "    \"reward\": \"MC\",\n",
    "    \"learning_rate\": 1e-3,\n",
    "    \"num_batch\": 1,\n",
    "    \"episode_per_batch\": 5,\n",
    "    \"output_dir\": \"./models/policy_gradient_normalized_step_reward\"\n",
    "}\n",
    "episode_per_batch=EPISODE_PER_BATCH \n",
    "num_batch=NUM_BATCH\n",
    "gamma=0.99\n",
    "wandb_log = True\n",
    "verbose = False\n",
    "\n",
    "if True:\n",
    "\n",
    "    if wandb_log:\n",
    "        wandb.init(\n",
    "            # set the wandb project where this run will be logged\n",
    "            project = config['project'], \n",
    "            # track hyperparameters and run metadata\n",
    "            config = config\n",
    "        )\n",
    "\n",
    "    match config['phase']:\n",
    "        case 'train':\n",
    "            agent.network.train()  # Switch network into training mode \n",
    "        case 'eval':\n",
    "            agent.network.eval()  # Switch network into eval mode \n",
    "    \n",
    "    num_batch, episode_per_batch = config['num_batch'], config['episode_per_batch']\n",
    "    avg_total_rewards, avg_final_rewards = [], []\n",
    "\n",
    "    prg_bar = tqdm(range(num_batch))\n",
    "    for batch in prg_bar:\n",
    "\n",
    "        log_probs, rewards = [], []\n",
    "        total_rewards, final_rewards = [], []\n",
    "        total_steps = []\n",
    "        original_rewards = []\n",
    "        # collect trajectory\n",
    "        for episode in range(episode_per_batch):\n",
    "            \n",
    "            state, info = env.reset()\n",
    "            total_reward, total_step = 0, 0\n",
    "            terminated, truncated = False, False\n",
    "            \n",
    "            while not(terminated or truncated):\n",
    "            # while not (terminated or truncated):\n",
    "                action, log_prob = agent.sample(state) # at, log(at|st)\n",
    "                next_state, reward, terminated, truncated, info = env.step(action)\n",
    "                \n",
    "\n",
    "                log_probs.append(log_prob) # [log(a1|s1), log(a2|s2), ...., log(at|st)]\n",
    "                state = next_state\n",
    "                total_reward += reward\n",
    "                match config[\"reward\"]:\n",
    "                    case \"normalized_step_reward\":\n",
    "                        rewards.append(reward) # change here\n",
    "                    case \"MC\":\n",
    "                        rewards.append(reward*(gamma**total_step))\n",
    "                        original_rewards.append(reward)\n",
    "                \n",
    "                total_step += 1\n",
    "                # ! IMPORTANT !\n",
    "                # Current reward implementation: immediate reward,  given action_list : a1, a2, a3 ......\n",
    "                #                                                         rewards :     r1, r2 ,r3 ......\n",
    "                # medium：change \"rewards\" to accumulative decaying reward, given action_list : a1,                           a2,                           a3, ......\n",
    "                #                                                           rewards :           r1+0.99*r2+0.99^2*r3+......, r2+0.99*r3+0.99^2*r4+...... ,  r3+0.99*r4+0.99^2*r5+ ......\n",
    "                # boss : implement Actor-Critic\n",
    "\n",
    "                # if terminated or truncated:\n",
    "                #    final_rewards.append(reward)\n",
    "                #    total_rewards.append(total_reward)\n",
    "                #    break\n",
    "\n",
    "            else:\n",
    "                final_rewards.append(reward)\n",
    "                total_rewards.append(total_reward)\n",
    "                total_steps.append(total_step)\n",
    "                \n",
    "            \n",
    "\n",
    "        # record training process\n",
    "        avg_total_reward = sum(total_rewards) / len(total_rewards)\n",
    "        avg_final_reward = sum(final_rewards) / len(final_rewards)\n",
    "        avg_total_rewards.append(avg_total_reward)\n",
    "        avg_final_rewards.append(avg_final_reward)\n",
    "        avg_episode_steps = sum(total_steps)/len(total_steps)\n",
    "        prg_bar.set_description(f\"Total: {avg_total_reward: 4.1f}, Final: {avg_final_reward: 4.1f}\")\n",
    "\n",
    "        # update agent\n",
    "        mean_rewards = np.mean(rewards)\n",
    "        std_rewards = np.std(rewards)\n",
    "\n",
    "        match config[\"reward\"]:\n",
    "            case \"normalized_step_reward\":\n",
    "                rewards = (rewards - np.mean(rewards)) / (np.std(rewards) + 1e-9)  # normalize the reward \n",
    "            case \"MC\":\n",
    "                rewards_ = []\n",
    "                start = [sum(total_steps[:i]) for i in range(len(total_steps))]\n",
    "                end =  [sum(total_steps[:i]) for i in range(1, len(total_steps)+1)]\n",
    "\n",
    "                for s, e in zip(start, end):\n",
    "                    rewards_ = rewards_ + [ sum(rewards[s:e][i:])/(gamma**i) for i in range(len(rewards[s:e])) ]\n",
    "                \n",
    "                rewards = np.array(rewards_)\n",
    "                #rewards = rewards_\n",
    "                #rewards = (rewards - np.mean(rewards)) / (np.std(rewards) + 1e-9)\n",
    "\n",
    "\n",
    "        agent.learn(torch.stack(log_probs), torch.from_numpy(rewards))\n",
    "        if verbose:\n",
    "            print(\"logs prob looks like \", torch.stack(log_probs).size())\n",
    "            print(\"torch.from_numpy(rewards) looks like \", torch.from_numpy(rewards).size())\n",
    "\n",
    "        if wandb_log:\n",
    "            wandb.log({\"mean rewards\":mean_rewards, \n",
    "                    \"std reward\":std_rewards, \n",
    "                    \"avg_total_reward\": avg_total_reward, \n",
    "                    \"avg_final_reward\": avg_final_reward, \n",
    "                    \"avg_episode_steps\":avg_episode_steps}\n",
    "            )\n",
    "\n",
    "    match config['phase']:\n",
    "        case 'train':\n",
    "            torch.save(agent.network.state_dict(), config['output_dir'])\n"
   ]
  },
  {
   "cell_type": "code",
   "execution_count": null,
   "metadata": {},
   "outputs": [],
   "source": [
    "# train\n",
    "env = gym.make('LunarLander-v2', render_mode='rgb_array')\n",
    "env.reset(seed=seed)\n",
    "\n",
    "network = PolicyGradientNetwork()\n",
    "agent = PolicyGradientAgent(network)\n",
    "\n",
    "config={\n",
    "    \"agent\": \"PolicyGradientAgent\",\n",
    "    \"phase\": \"train\",\n",
    "    \"project\": \"lunalander\",\n",
    "    \"reward\": \"normalized_step_reward\",\n",
    "    \"learning_rate\": 1e-3,\n",
    "    \"num_batch\": 500,\n",
    "    \"episode_per_batch\": 5,\n",
    "    \"output_dir\": \"./models/policy_gradient_normalized_step_reward\"\n",
    "}\n",
    "\n",
    "agent_run(env, agent, config=config)\n"
   ]
  },
  {
   "cell_type": "code",
   "execution_count": null,
   "metadata": {},
   "outputs": [],
   "source": [
    "network = PolicyGradientNetwork()\n",
    "agent = PolicyGradientAgent(network)\n",
    "agent.network.load_state_dict(torch.load(config[\"output_dir\"]))\n",
    "\n",
    "env = gym.make('LunarLander-v2', render_mode='rgb_array')\n",
    "env.reset(seed=seed)\n",
    "demo_run(env, agent, seed=seed, record_video=True, video_folder = f\"./video/policy_gradient_normalized_step_reward\", greedy=True)\n",
    "env.reset(seed=seed)\n",
    "demo_run(env, agent, seed=seed, record_video=True, video_folder = f\"./video/policy_gradient_normalized_step_reward\", greedy=False)"
   ]
  },
  {
   "cell_type": "code",
   "execution_count": 22,
   "metadata": {},
   "outputs": [
    {
     "data": {
      "text/html": [
       "Finishing last run (ID:v29pz7d1) before initializing another..."
      ],
      "text/plain": [
       "<IPython.core.display.HTML object>"
      ]
     },
     "metadata": {},
     "output_type": "display_data"
    },
    {
     "data": {
      "application/vnd.jupyter.widget-view+json": {
       "model_id": "cf208b518dc549b3bddbf3c67c89d10f",
       "version_major": 2,
       "version_minor": 0
      },
      "text/plain": [
       "VBox(children=(Label(value='0.001 MB of 0.001 MB uploaded\\r'), FloatProgress(value=1.0, max=1.0)))"
      ]
     },
     "metadata": {},
     "output_type": "display_data"
    },
    {
     "data": {
      "text/html": [
       "<style>\n",
       "    table.wandb td:nth-child(1) { padding: 0 10px; text-align: left ; width: auto;} td:nth-child(2) {text-align: left ; width: 100%}\n",
       "    .wandb-row { display: flex; flex-direction: row; flex-wrap: wrap; justify-content: flex-start; width: 100% }\n",
       "    .wandb-col { display: flex; flex-direction: column; flex-basis: 100%; flex: 1; padding: 10px; }\n",
       "    </style>\n",
       "<div class=\"wandb-row\"><div class=\"wandb-col\"><h3>Run history:</h3><br/><table class=\"wandb\"><tr><td>avg_episode_steps</td><td>▁▁▁▂▂▁▂▁▂▂▂▂▂▂▂▂▂▅▂▃▅▂▃▃▂▂▃█▅▃▆▄▅▄▆▃▆▅▃▅</td></tr><tr><td>avg_final_reward</td><td>▁▁▁▁▁▁▁▁▁▁▁▁▁▁▁▁▁▁▁▁▁▁▁▁▁▁▁█▁█▄▁██▄▁█▁▁▄</td></tr><tr><td>avg_total_reward</td><td>▅▅▆▅▅▄▄▄▃▂▄▄▇▆▅▁▃▄▅▃▄▆▅▆▇▇▅▆▆▇▆▆▆█▇▆▆▆▆▇</td></tr><tr><td>mean rewards</td><td>▃▁▅▂▂▂▂▃▂▁▄▂▃▂▆▅▃▅▄▄▅▆▅▅█▆▅▅▆▆▅▅▆▅▆▆▆▆▆▆</td></tr><tr><td>std reward</td><td>▅▇▆██▆▇█▅▅▄▇▆▆▇▆▄▂▄▅▂▄▃▄▆▃▃▁▂▃▃▂▂▁▂▂▂▂▃▃</td></tr></table><br/></div><div class=\"wandb-col\"><h3>Run summary:</h3><br/><table class=\"wandb\"><tr><td>avg_episode_steps</td><td>293.2</td></tr><tr><td>avg_final_reward</td><td>-100.0</td></tr><tr><td>avg_total_reward</td><td>-88.1218</td></tr><tr><td>mean rewards</td><td>0.00639</td></tr><tr><td>std reward</td><td>0.0861</td></tr></table><br/></div></div>"
      ],
      "text/plain": [
       "<IPython.core.display.HTML object>"
      ]
     },
     "metadata": {},
     "output_type": "display_data"
    },
    {
     "data": {
      "text/html": [
       " View run <strong style=\"color:#cdcd00\">dandy-water-53</strong> at: <a href='http://140.112.31.147:8080/irlab/lunalander/runs/v29pz7d1' target=\"_blank\">http://140.112.31.147:8080/irlab/lunalander/runs/v29pz7d1</a><br/>Synced 5 W&B file(s), 0 media file(s), 0 artifact file(s) and 0 other file(s)"
      ],
      "text/plain": [
       "<IPython.core.display.HTML object>"
      ]
     },
     "metadata": {},
     "output_type": "display_data"
    },
    {
     "data": {
      "text/html": [
       "Find logs at: <code>./wandb/run-20240310_112249-v29pz7d1/logs</code>"
      ],
      "text/plain": [
       "<IPython.core.display.HTML object>"
      ]
     },
     "metadata": {},
     "output_type": "display_data"
    },
    {
     "data": {
      "text/html": [
       "Upgrade to the 0.50.2 version of W&B Server to get the latest features. Learn more: <a href='https://wandb.me/server-upgrade' target=\"_blank\">https://wandb.me/server-upgrade</a>"
      ],
      "text/plain": [
       "<IPython.core.display.HTML object>"
      ]
     },
     "metadata": {},
     "output_type": "display_data"
    },
    {
     "data": {
      "text/html": [
       "Successfully finished last run (ID:v29pz7d1). Initializing new run:<br/>"
      ],
      "text/plain": [
       "<IPython.core.display.HTML object>"
      ]
     },
     "metadata": {},
     "output_type": "display_data"
    },
    {
     "data": {
      "text/html": [
       "wandb version 0.16.4 is available!  To upgrade, please run:\n",
       " $ pip install wandb --upgrade"
      ],
      "text/plain": [
       "<IPython.core.display.HTML object>"
      ]
     },
     "metadata": {},
     "output_type": "display_data"
    },
    {
     "data": {
      "text/html": [
       "Tracking run with wandb version 0.16.3"
      ],
      "text/plain": [
       "<IPython.core.display.HTML object>"
      ]
     },
     "metadata": {},
     "output_type": "display_data"
    },
    {
     "data": {
      "text/html": [
       "Run data is saved locally in <code>/home/jupyter/github/openai-gym/wandb/run-20240310_114024-l9bdo4hg</code>"
      ],
      "text/plain": [
       "<IPython.core.display.HTML object>"
      ]
     },
     "metadata": {},
     "output_type": "display_data"
    },
    {
     "data": {
      "text/html": [
       "Syncing run <strong><a href='http://140.112.31.147:8080/irlab/lunalander/runs/l9bdo4hg' target=\"_blank\">dainty-sun-54</a></strong> to <a href='http://140.112.31.147:8080/irlab/lunalander' target=\"_blank\">Weights & Biases</a> (<a href='https://wandb.me/run' target=\"_blank\">docs</a>)<br/>"
      ],
      "text/plain": [
       "<IPython.core.display.HTML object>"
      ]
     },
     "metadata": {},
     "output_type": "display_data"
    },
    {
     "data": {
      "text/html": [
       " View project at <a href='http://140.112.31.147:8080/irlab/lunalander' target=\"_blank\">http://140.112.31.147:8080/irlab/lunalander</a>"
      ],
      "text/plain": [
       "<IPython.core.display.HTML object>"
      ]
     },
     "metadata": {},
     "output_type": "display_data"
    },
    {
     "data": {
      "text/html": [
       " View run at <a href='http://140.112.31.147:8080/irlab/lunalander/runs/l9bdo4hg' target=\"_blank\">http://140.112.31.147:8080/irlab/lunalander/runs/l9bdo4hg</a>"
      ],
      "text/plain": [
       "<IPython.core.display.HTML object>"
      ]
     },
     "metadata": {},
     "output_type": "display_data"
    },
    {
     "data": {
      "application/vnd.jupyter.widget-view+json": {
       "model_id": "2942675a902647b984eafb02ecb11b2b",
       "version_major": 2,
       "version_minor": 0
      },
      "text/plain": [
       "  0%|          | 0/500 [00:00<?, ?it/s]"
      ]
     },
     "metadata": {},
     "output_type": "display_data"
    },
    {
     "name": "stderr",
     "output_type": "stream",
     "text": [
      "/home/jupyter/venv/rl-exp/lib/python3.10/site-packages/gymnasium/core.py:311: UserWarning: \u001b[33mWARN: env.is_vector_env to get variables from other wrappers is deprecated and will be removed in v1.0, to get this variable you can do `env.unwrapped.is_vector_env` for environment variables or `env.get_wrapper_attr('is_vector_env')` that will search the reminding wrappers.\u001b[0m\n",
      "  logger.warn(\n"
     ]
    },
    {
     "name": "stdout",
     "output_type": "stream",
     "text": [
      "Moviepy - Building video /home/jupyter/github/openai-gym/video/policy_gradient_MC_gamma_0.7_advantage_step_punish-greedy-0/rl-video-episode-0.mp4.\n",
      "Moviepy - Writing video /home/jupyter/github/openai-gym/video/policy_gradient_MC_gamma_0.7_advantage_step_punish-greedy-0/rl-video-episode-0.mp4\n",
      "\n"
     ]
    },
    {
     "name": "stderr",
     "output_type": "stream",
     "text": [
      "                                                                \r"
     ]
    },
    {
     "name": "stdout",
     "output_type": "stream",
     "text": [
      "Moviepy - Done !\n",
      "Moviepy - video ready /home/jupyter/github/openai-gym/video/policy_gradient_MC_gamma_0.7_advantage_step_punish-greedy-0/rl-video-episode-0.mp4\n",
      "Moviepy - Building video /home/jupyter/github/openai-gym/video/policy_gradient_MC_gamma_0.7_advantage_step_punish-sample-0/rl-video-episode-0.mp4.\n",
      "Moviepy - Writing video /home/jupyter/github/openai-gym/video/policy_gradient_MC_gamma_0.7_advantage_step_punish-sample-0/rl-video-episode-0.mp4\n",
      "\n"
     ]
    },
    {
     "name": "stderr",
     "output_type": "stream",
     "text": [
      "                                                               \r"
     ]
    },
    {
     "name": "stdout",
     "output_type": "stream",
     "text": [
      "Moviepy - Done !\n",
      "Moviepy - video ready /home/jupyter/github/openai-gym/video/policy_gradient_MC_gamma_0.7_advantage_step_punish-sample-0/rl-video-episode-0.mp4\n"
     ]
    }
   ],
   "source": [
    "# train\n",
    "env = gym.make('LunarLander-v2', render_mode='rgb_array')\n",
    "env.reset(seed=seed)\n",
    "\n",
    "network = PolicyGradientNetwork()\n",
    "agent = PolicyGradientAgent(network)\n",
    "\n",
    "config={\n",
    "    \"agent\": \"PolicyGradientAgent\",\n",
    "    \"phase\": \"train\",\n",
    "    \"project\": \"lunalander\",\n",
    "    \"reward\": \"MC\",\n",
    "    \"learning_rate\": 1e-3,\n",
    "    \"num_batch\": 500,\n",
    "    \"episode_per_batch\": 5,\n",
    "    \"output_dir\": \"./models/policy_gradient_MC_gamma_0.7\"\n",
    "}\n",
    "\n",
    "agent_run(env, agent, config=config, gamma=0.7)\n",
    "\n",
    "network = PolicyGradientNetwork()\n",
    "agent = PolicyGradientAgent(network)\n",
    "agent.network.load_state_dict(torch.load(config[\"output_dir\"]))\n",
    "\n",
    "env = gym.make('LunarLander-v2', render_mode='rgb_array')\n",
    "env.reset(seed=seed)\n",
    "demo_run(env, agent, seed=seed, record_video=True, video_folder = f\"./video/policy_gradient_MC_gamma_0.7_advantage_step_punish\", greedy=True)\n",
    "env.reset(seed=seed)\n",
    "demo_run(env, agent, seed=seed, record_video=True, video_folder = f\"./video/policy_gradient_MC_gamma_0.7_advantage_step_punish\", greedy=False)\n"
   ]
  },
  {
   "cell_type": "code",
   "execution_count": null,
   "metadata": {},
   "outputs": [],
   "source": [
    "# train\n",
    "env = gym.make('LunarLander-v2', render_mode='rgb_array')\n",
    "env.reset(seed=seed)\n",
    "\n",
    "network = PolicyGradientNetwork()\n",
    "agent = PolicyGradientAgent(network)\n",
    "\n",
    "config={\n",
    "    \"agent\": \"PolicyGradientAgent\",\n",
    "    \"phase\": \"train\",\n",
    "    \"project\": \"lunalander\",\n",
    "    \"reward\": \"MC\",\n",
    "    \"learning_rate\": 1e-3,\n",
    "    \"num_batch\": 500,\n",
    "    \"episode_per_batch\": 1,\n",
    "    \"output_dir\": \"./models/policy_gradient_MC_gamma_0.90\"\n",
    "}\n",
    "\n",
    "agent_run(env, agent, config=config, gamma=0.90)\n",
    "\n",
    "\n",
    "network = PolicyGradientNetwork()\n",
    "agent = PolicyGradientAgent(network)\n",
    "agent.network.load_state_dict(torch.load(config[\"output_dir\"]))\n",
    "\n",
    "env = gym.make('LunarLander-v2', render_mode='rgb_array')\n",
    "env.reset(seed=seed)\n",
    "demo_run(env, agent, seed=seed, record_video=True, video_folder = f\"./video/policy_gradient_MC_gamma_0.90\", greedy=True)\n",
    "env.reset(seed=seed)\n",
    "demo_run(env, agent, seed=seed, record_video=True, video_folder = f\"./video/policy_gradient_MC_gamma_0.90\", greedy=False)\n"
   ]
  },
  {
   "cell_type": "code",
   "execution_count": null,
   "metadata": {},
   "outputs": [],
   "source": [
    "# train\n",
    "env = gym.make('LunarLander-v2', render_mode='rgb_array')\n",
    "env.reset(seed=seed)\n",
    "\n",
    "network = PolicyGradientNetwork()\n",
    "agent = PolicyGradientAgent(network)\n",
    "\n",
    "config={\n",
    "    \"agent\": \"PolicyGradientAgent\",\n",
    "    \"phase\": \"train\",\n",
    "    \"project\": \"lunalander\",\n",
    "    \"reward\": \"MC\",\n",
    "    \"learning_rate\": 1e-3,\n",
    "    \"num_batch\": 500,\n",
    "    \"episode_per_batch\": 5,\n",
    "    \"output_dir\": \"./models/policy_gradient_MC_gamma_0.90_episode_per_batch_5_normalized\"\n",
    "}\n",
    "\n",
    "agent_run(env, agent, config=config, gamma=0.90)\n",
    "\n",
    "\n",
    "network = PolicyGradientNetwork()\n",
    "agent = PolicyGradientAgent(network)\n",
    "agent.network.load_state_dict(torch.load(config[\"output_dir\"]))\n",
    "\n",
    "env = gym.make('LunarLander-v2', render_mode='rgb_array')\n",
    "env.reset(seed=seed)\n",
    "demo_run(env, agent, seed=seed, record_video=True, video_folder = f\"./video/policy_gradient_MC_gamma_090_episode_per_batch_5_normalized\", greedy=True)\n",
    "env.reset(seed=seed)\n",
    "demo_run(env, agent, seed=seed, record_video=True, video_folder = f\"./video/policy_gradient_MC_gamma_090_episode_per_batch_5_normalized\", greedy=False)\n"
   ]
  },
  {
   "cell_type": "code",
   "execution_count": null,
   "metadata": {},
   "outputs": [],
   "source": [
    "# train\n",
    "env = gym.make('LunarLander-v2', render_mode='rgb_array')\n",
    "env.reset(seed=seed)\n",
    "\n",
    "network = PolicyGradientNetwork()\n",
    "agent = PolicyGradientAgent(network)\n",
    "\n",
    "config={\n",
    "    \"agent\": \"PolicyGradientAgent\",\n",
    "    \"phase\": \"train\",\n",
    "    \"project\": \"lunalander\",\n",
    "    \"reward\": \"MC\",\n",
    "    \"learning_rate\": 1e-3,\n",
    "    \"num_batch\": 10000,\n",
    "    \"episode_per_batch\": 1,\n",
    "    \"output_dir\": \"./models/policy_gradient_MC_gamma_0.90\"\n",
    "}\n",
    "\n",
    "agent_run(env, agent, config=config, gamma=0.8)\n",
    "\n",
    "\n",
    "network = PolicyGradientNetwork()\n",
    "agent = PolicyGradientAgent(network)\n",
    "agent.network.load_state_dict(torch.load(config[\"output_dir\"]))\n",
    "\n",
    "env = gym.make('LunarLander-v2', render_mode='rgb_array')\n",
    "env.reset(seed=seed)\n",
    "demo_run(env, agent, seed=seed, record_video=True, video_folder = f\"./video/policy_gradient_MC_gamma_0.90_batch_10000\", greedy=True)\n",
    "env.reset(seed=seed)\n",
    "demo_run(env, agent, seed=seed, record_video=True, video_folder = f\"./video/policy_gradient_MC_gamma_0.90_batch_10000\", greedy=False)\n"
   ]
  },
  {
   "cell_type": "code",
   "execution_count": null,
   "metadata": {},
   "outputs": [],
   "source": []
  }
 ],
 "metadata": {
  "kernelspec": {
   "display_name": "rl-exp",
   "language": "python",
   "name": "python3"
  },
  "language_info": {
   "codemirror_mode": {
    "name": "ipython",
    "version": 3
   },
   "file_extension": ".py",
   "mimetype": "text/x-python",
   "name": "python",
   "nbconvert_exporter": "python",
   "pygments_lexer": "ipython3",
   "version": "3.10.13"
  }
 },
 "nbformat": 4,
 "nbformat_minor": 2
}
